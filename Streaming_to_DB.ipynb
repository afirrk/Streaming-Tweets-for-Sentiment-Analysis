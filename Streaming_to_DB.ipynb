{
 "cells": [
  {
   "cell_type": "code",
   "execution_count": null,
   "id": "459c0acf-35b7-4025-9289-32e5086b7b71",
   "metadata": {},
   "outputs": [],
   "source": [
    "from tweepy import Stream\n",
    "import nltk\n",
    "import pandas as pd\n",
    "import re\n",
    "\n",
    "import sqlite3\n",
    "import sqlalchemy"
   ]
  },
  {
   "cell_type": "code",
   "execution_count": null,
   "id": "bbe492bd-4948-41eb-8a22-48db80e19e9a",
   "metadata": {},
   "outputs": [],
   "source": [
    "def clean_tweet(tweet):\n",
    "    tweet = str(tweet)\n",
    "    tweet = ' '.join([w for w in tweet.split() if len(w) < 20]) #remove crypto addresses from strings\n",
    "    tweet = ' '.join(re.sub(\"(#[A-Za-z0-9]+)\", \" \", tweet).split()) #remove hashtags\n",
    "    tweet = ' '.join(re.sub(\"(&[A-Za-z0-9]+)\", \" \", tweet).split()) #remove hwords starting with &\n",
    "    tweet = ' '.join(re.sub(\"(https?:?\\/\\/\\S+)\", \" \", tweet).split()) #remove hyperlinks\n",
    "    tweet = ' '.join(re.sub(\"(rt @[A-Za-z0-9]+)|(@[A-Za-z0-9]+)|([^0-9A-Za-z \\t])|(\\w+:\\/\\/\\S+)\", \" \", tweet).split()) #remove RT and mentions\n",
    "    tweet = ' '.join(re.sub(\"\\S*\\d\\S*\", \" \", tweet).split()) #remove words containing numbers\n",
    "    tweet = ' '.join(re.sub(\"([0-9])\", \" \", tweet).split()) #remove numbers\n",
    "    \n",
    "    return tweet.lower()"
   ]
  },
  {
   "cell_type": "code",
   "execution_count": null,
   "id": "330f7e27-363d-4e5e-b4e2-c6c7b3c7242e",
   "metadata": {},
   "outputs": [],
   "source": [
    "connection = sqlite3.connect('Crypto_Tweets.db')\n",
    "engine = sqlalchemy.create_engine('sqlite:///Crypto_Tweets.db')"
   ]
  },
  {
   "cell_type": "code",
   "execution_count": null,
   "id": "f5f61f01-dfca-48e9-bfa4-054a801170ba",
   "metadata": {},
   "outputs": [],
   "source": [
    "access_token = 'xxxxxxx'\n",
    "access_token_secret = 'xxxxxxxx'\n",
    "consumer_key = 'xxxxxxxx'\n",
    "consumer_secret = 'xxxxxxxx'"
   ]
  },
  {
   "cell_type": "code",
   "execution_count": null,
   "id": "eada3b66-4acb-4a97-b8be-7ee5ce47bcca",
   "metadata": {},
   "outputs": [],
   "source": [
    "used_id = {0}\n",
    "class MyStreamListener(Stream):\n",
    "    def on_status(self, status):\n",
    "        if status.text.startswith('RT') or len(clean_tweet(status.text).split()) <= 3 or status.id in used_id:\n",
    "            pass\n",
    "        else:\n",
    "            try:\n",
    "                if hasattr(status, 'retweeted_status') and hasattr(status.retweeted_status, 'extended_tweet'):\n",
    "                    #print('retweeted: ' + status.retweeted_status.extended_tweet['full_text'])\n",
    "                    tweet_text = status.retweeted_status.extended_tweet['full_text']\n",
    "                if hasattr(status, 'extended_tweet'):\n",
    "                    #print('extended_tweet: ' + status.extended_tweet['full_text'])\n",
    "                    tweet_text = status.extended_tweet['full_text']\n",
    "                else:\n",
    "                    #print('text: ' + status.text)\n",
    "                    tweet_text = status.text\n",
    "                    \n",
    "                \n",
    "                used_id.add(status.id)\n",
    "                #print(status.id)\n",
    "                #print(status.created_at)\n",
    "                #print(clean_tweet(tweet_text))\n",
    "                #print('\\n')\n",
    "                \n",
    "                df = (pd.DataFrame([{'created_at': status.created_at, \n",
    "                                     'tweet_id': status.id,\n",
    "                                     'text': status.text,\n",
    "                                     'processed_text': clean_tweet(status.text)}])\n",
    "                     )\n",
    "                df.to_sql('Tweets', engine, if_exists = 'append', index = False)\n",
    "\n",
    "            except AttributeError:\n",
    "                print('attribute error: ' + status.text)\n",
    "\n",
    "    def on_error(self, status_code):\n",
    "        if status_code == 420:  # end of monthly limit rate (500k)\n",
    "            return False\n",
    "\n",
    "\n",
    "stream = MyStreamListener(access_token = access_token,\n",
    "                          access_token_secret = access_token_secret,\n",
    "                          consumer_key = consumer_key,\n",
    "                          consumer_secret = consumer_secret)\n",
    "\n",
    "stream.filter(track=['bitcoin', 'ethereum'], languages=[\"en\"])"
   ]
  },
  {
   "cell_type": "code",
   "execution_count": null,
   "id": "e957f294-969c-4667-9c65-11b79d91c024",
   "metadata": {},
   "outputs": [],
   "source": []
  }
 ],
 "metadata": {
  "kernelspec": {
   "display_name": "Python 3 (ipykernel)",
   "language": "python",
   "name": "python3"
  },
  "language_info": {
   "codemirror_mode": {
    "name": "ipython",
    "version": 3
   },
   "file_extension": ".py",
   "mimetype": "text/x-python",
   "name": "python",
   "nbconvert_exporter": "python",
   "pygments_lexer": "ipython3",
   "version": "3.9.7"
  }
 },
 "nbformat": 4,
 "nbformat_minor": 5
}
